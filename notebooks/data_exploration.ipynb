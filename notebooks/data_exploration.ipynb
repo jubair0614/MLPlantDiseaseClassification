{
 "cells": [
  {
   "cell_type": "code",
   "execution_count": 2,
   "metadata": {},
   "outputs": [
    {
     "name": "stdout",
     "output_type": "stream",
     "text": [
      "ajaira\n"
     ]
    }
   ],
   "source": [
    "print('ajaira')"
   ]
  },
  {
   "cell_type": "code",
   "execution_count": 11,
   "metadata": {},
   "outputs": [
    {
     "name": "stdout",
     "output_type": "stream",
     "text": [
      "Loaded 2 images with labels: {'early_blight', 'healthy'}\n"
     ]
    }
   ],
   "source": [
    "# 1. Add the 'src' directory to Python's path (relative to the notebook location)\n",
    "import sys\n",
    "import os\n",
    "\n",
    "# Adjust this path to point to your 'src' directory\n",
    "src_path = os.path.join(os.getcwd(), \"..\", \"src\")\n",
    "if src_path not in sys.path:\n",
    "    sys.path.append(src_path)\n",
    "\n",
    "# 2. Now import the function from the data_loader.py module\n",
    "from data.data_loader import load_sample_data\n",
    "from features.feature_extractor import *\n",
    "\n",
    "# 3. Specify the sample directory and load data\n",
    "sample_dir = \"../data/samples\"  # Adjust if needed to match your structure\n",
    "sample_images, sample_labels = load_sample_data(sample_dir)\n",
    "\n",
    "# 4. Display or inspect the loaded data\n",
    "print(f\"Loaded {len(sample_images)} images with labels: {set(sample_labels)}\")\n"
   ]
  },
  {
   "cell_type": "code",
   "execution_count": 12,
   "metadata": {},
   "outputs": [
    {
     "data": {
      "text/plain": [
       "(256, 256, 3)"
      ]
     },
     "execution_count": 12,
     "metadata": {},
     "output_type": "execute_result"
    }
   ],
   "source": [
    "sample_images[0].shape"
   ]
  },
  {
   "cell_type": "code",
   "execution_count": 13,
   "metadata": {},
   "outputs": [
    {
     "name": "stdout",
     "output_type": "stream",
     "text": [
      "[0.22784799 0.18009006 0.04102738 ... 0.18671372 0.02603166 0.09726825]\n",
      "93824992236758.67\n",
      "126.0042724609375\n"
     ]
    }
   ],
   "source": [
    "print(extract_hog_features(sample_images[0]))\n",
    "print(calculate_symmetry(sample_images[0]))\n",
    "print(calculate_intensity(sample_images[0]))"
   ]
  },
  {
   "cell_type": "code",
   "execution_count": 1,
   "metadata": {},
   "outputs": [
    {
     "name": "stdout",
     "output_type": "stream",
     "text": [
      "nothing! just to check\n"
     ]
    }
   ],
   "source": [
    "print(\"faltu! just to check\")"
   ]
  }
 ],
 "metadata": {
  "kernelspec": {
   "display_name": "plant-leaf-disease-classification",
   "language": "python",
   "name": "python3"
  },
  "language_info": {
   "codemirror_mode": {
    "name": "ipython",
    "version": 3
   },
   "file_extension": ".py",
   "mimetype": "text/x-python",
   "name": "python",
   "nbconvert_exporter": "python",
   "pygments_lexer": "ipython3",
   "version": "3.8.18"
  }
 },
 "nbformat": 4,
 "nbformat_minor": 2
}
